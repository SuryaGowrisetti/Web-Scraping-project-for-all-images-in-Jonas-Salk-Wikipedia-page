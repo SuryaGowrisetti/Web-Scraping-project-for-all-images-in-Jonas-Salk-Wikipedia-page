{
 "metadata": {
  "language_info": {
   "codemirror_mode": {
    "name": "ipython",
    "version": 3
   },
   "file_extension": ".py",
   "mimetype": "text/x-python",
   "name": "python",
   "nbconvert_exporter": "python",
   "pygments_lexer": "ipython3",
   "version": "3.7.6-final"
  },
  "orig_nbformat": 2,
  "kernelspec": {
   "name": "Python 3.7.6 64-bit (conda)",
   "display_name": "Python 3.7.6 64-bit (conda)",
   "metadata": {
    "interpreter": {
     "hash": "2b2146aa9c1c98d49d1089fb20b781d675596b7fbc4a1e6bff2c15d6fe609320"
    }
   }
  }
 },
 "nbformat": 4,
 "nbformat_minor": 2,
 "cells": [
  {
   "cell_type": "code",
   "execution_count": 1,
   "metadata": {},
   "outputs": [],
   "source": [
    "import bs4,requests"
   ]
  },
  {
   "cell_type": "code",
   "execution_count": 2,
   "metadata": {},
   "outputs": [],
   "source": [
    "result = requests.get('https://en.wikipedia.org/wiki/Jonas_Salk')"
   ]
  },
  {
   "cell_type": "code",
   "execution_count": 3,
   "metadata": {},
   "outputs": [],
   "source": [
    "soup = bs4.BeautifulSoup(result.text,'lxml')"
   ]
  },
  {
   "cell_type": "code",
   "execution_count": 4,
   "metadata": {},
   "outputs": [],
   "source": [
    "all_Jonas_Salk_images = soup.select('img')"
   ]
  },
  {
   "cell_type": "code",
   "execution_count": 5,
   "metadata": {},
   "outputs": [],
   "source": [
    "all_image_urls = []"
   ]
  },
  {
   "cell_type": "code",
   "execution_count": 6,
   "metadata": {},
   "outputs": [],
   "source": [
    "for each in all_Jonas_Salk_images:\n",
    "    all_image_urls.append(each['src'])"
   ]
  },
  {
   "cell_type": "code",
   "execution_count": 7,
   "metadata": {},
   "outputs": [
    {
     "output_type": "execute_result",
     "data": {
      "text/plain": [
       "['//upload.wikimedia.org/wikipedia/commons/thumb/5/59/Jonas_Salk_candid.jpg/220px-Jonas_Salk_candid.jpg',\n",
       " '//upload.wikimedia.org/wikipedia/commons/thumb/4/4a/Jonas_Salk_signature.svg/150px-Jonas_Salk_signature.svg.png',\n",
       " '//upload.wikimedia.org/wikipedia/commons/thumb/3/3c/Roosevelt_OConnor.jpg/220px-Roosevelt_OConnor.jpg',\n",
       " '//upload.wikimedia.org/wikipedia/commons/thumb/c/ca/SalkatPitt.jpg/170px-SalkatPitt.jpg',\n",
       " '//upload.wikimedia.org/wikipedia/en/thumb/e/e4/Salk-child-Karsh.jpg/220px-Salk-child-Karsh.jpg',\n",
       " '//upload.wikimedia.org/wikipedia/commons/thumb/7/7a/Salk_March_of_Dimes_poster.jpg/220px-Salk_March_of_Dimes_poster.jpg',\n",
       " '//upload.wikimedia.org/wikipedia/commons/thumb/2/21/Ben_Gurion_-_Jonas_Salk_-_Jerusalem_1959.jpg/170px-Ben_Gurion_-_Jonas_Salk_-_Jerusalem_1959.jpg',\n",
       " '//upload.wikimedia.org/wikipedia/commons/thumb/d/d4/Salk_Institute1.jpg/240px-Salk_Institute1.jpg',\n",
       " '//upload.wikimedia.org/wikipedia/commons/thumb/1/13/Jonas_Salk_1988.jpg/200px-Jonas_Salk_1988.jpg',\n",
       " '//upload.wikimedia.org/wikipedia/commons/7/71/Salkws.jpg',\n",
       " '//upload.wikimedia.org/wikipedia/en/thumb/4/4a/Commons-logo.svg/30px-Commons-logo.svg.png',\n",
       " '//upload.wikimedia.org/wikipedia/commons/thumb/f/fa/Wikiquote-logo.svg/34px-Wikiquote-logo.svg.png',\n",
       " '//upload.wikimedia.org/wikipedia/en/thumb/8/8a/OOjs_UI_icon_edit-ltr-progressive.svg/10px-OOjs_UI_icon_edit-ltr-progressive.svg.png',\n",
       " '//upload.wikimedia.org/wikipedia/en/thumb/6/69/P_vip.svg/21px-P_vip.svg.png',\n",
       " '//upload.wikimedia.org/wikipedia/commons/thumb/d/d6/WHO_Rod.svg/9px-WHO_Rod.svg.png',\n",
       " '//upload.wikimedia.org/wikipedia/commons/thumb/2/2f/Sida-aids.png/21px-Sida-aids.png',\n",
       " '//en.wikipedia.org/wiki/Special:CentralAutoLogin/start?type=1x1',\n",
       " '/static/images/footer/wikimedia-button.png',\n",
       " '/static/images/footer/poweredby_mediawiki_88x31.png']"
      ]
     },
     "metadata": {},
     "execution_count": 7
    }
   ],
   "source": [
    "all_image_urls"
   ]
  },
  {
   "cell_type": "code",
   "execution_count": 8,
   "metadata": {},
   "outputs": [],
   "source": [
    "all_image_links =  []"
   ]
  },
  {
   "cell_type": "code",
   "execution_count": 9,
   "metadata": {},
   "outputs": [],
   "source": [
    "def get_image_link(link):\n",
    "    return requests.get('https:'+link)"
   ]
  },
  {
   "cell_type": "code",
   "execution_count": 10,
   "metadata": {},
   "outputs": [
    {
     "output_type": "execute_result",
     "data": {
      "text/plain": [
       "[]"
      ]
     },
     "metadata": {},
     "execution_count": 10
    }
   ],
   "source": [
    "all_image_links"
   ]
  },
  {
   "cell_type": "code",
   "execution_count": 11,
   "metadata": {},
   "outputs": [
    {
     "output_type": "stream",
     "name": "stdout",
     "text": [
      "//upload.wikimedia.org/wikipedia/commons/thumb/5/59/Jonas_Salk_candid.jpg/220px-Jonas_Salk_candid.jpg has been added\n",
      "//upload.wikimedia.org/wikipedia/commons/thumb/4/4a/Jonas_Salk_signature.svg/150px-Jonas_Salk_signature.svg.png has been added\n",
      "//upload.wikimedia.org/wikipedia/commons/thumb/3/3c/Roosevelt_OConnor.jpg/220px-Roosevelt_OConnor.jpg has been added\n",
      "//upload.wikimedia.org/wikipedia/commons/thumb/c/ca/SalkatPitt.jpg/170px-SalkatPitt.jpg has been added\n",
      "//upload.wikimedia.org/wikipedia/en/thumb/e/e4/Salk-child-Karsh.jpg/220px-Salk-child-Karsh.jpg has been added\n",
      "//upload.wikimedia.org/wikipedia/commons/thumb/7/7a/Salk_March_of_Dimes_poster.jpg/220px-Salk_March_of_Dimes_poster.jpg has been added\n",
      "//upload.wikimedia.org/wikipedia/commons/thumb/2/21/Ben_Gurion_-_Jonas_Salk_-_Jerusalem_1959.jpg/170px-Ben_Gurion_-_Jonas_Salk_-_Jerusalem_1959.jpg has been added\n",
      "//upload.wikimedia.org/wikipedia/commons/thumb/d/d4/Salk_Institute1.jpg/240px-Salk_Institute1.jpg has been added\n",
      "//upload.wikimedia.org/wikipedia/commons/thumb/1/13/Jonas_Salk_1988.jpg/200px-Jonas_Salk_1988.jpg has been added\n",
      "//upload.wikimedia.org/wikipedia/commons/7/71/Salkws.jpg has been added\n",
      "//upload.wikimedia.org/wikipedia/en/thumb/4/4a/Commons-logo.svg/30px-Commons-logo.svg.png has been added\n",
      "//upload.wikimedia.org/wikipedia/commons/thumb/f/fa/Wikiquote-logo.svg/34px-Wikiquote-logo.svg.png has been added\n",
      "//upload.wikimedia.org/wikipedia/en/thumb/8/8a/OOjs_UI_icon_edit-ltr-progressive.svg/10px-OOjs_UI_icon_edit-ltr-progressive.svg.png has been added\n",
      "//upload.wikimedia.org/wikipedia/en/thumb/6/69/P_vip.svg/21px-P_vip.svg.png has been added\n",
      "//upload.wikimedia.org/wikipedia/commons/thumb/d/d6/WHO_Rod.svg/9px-WHO_Rod.svg.png has been added\n",
      "//upload.wikimedia.org/wikipedia/commons/thumb/2/2f/Sida-aids.png/21px-Sida-aids.png has been added\n",
      "//en.wikipedia.org/wiki/Special:CentralAutoLogin/start?type=1x1 has been added\n",
      "this image is not accessible /static/images/footer/wikimedia-button.png\n"
     ]
    }
   ],
   "source": [
    "try:\n",
    "    for each in all_image_urls:\n",
    "        all_image_links.append(get_image_link(each))\n",
    "        \n",
    "except:\n",
    "    print('this image is not accessible',each)"
   ]
  },
  {
   "cell_type": "code",
   "execution_count": 12,
   "metadata": {},
   "outputs": [],
   "source": [
    "def create_file(file_url,tag):\n",
    "    with open('C:\\\\Users\\\\Surya.Gowrisetti\\\\Training\\\\Python\\\\web scraping project\\\\extracted images\\\\'+each.url[-10::],'wb') as f: f.write(tag.content)"
   ]
  },
  {
   "cell_type": "code",
   "execution_count": 13,
   "metadata": {},
   "outputs": [],
   "source": [
    "for each in all_image_links:\n",
    "    create_file(each.url,each)\n",
    "    # print(each.content)"
   ]
  },
  {
   "cell_type": "code",
   "execution_count": 14,
   "metadata": {},
   "outputs": [],
   "source": [
    "with open('first_image.aid','wb') as f: f.write(all_image_links[0].content)"
   ]
  },
  {
   "cell_type": "code",
   "execution_count": null,
   "metadata": {},
   "outputs": [],
   "source": []
  }
 ]
}